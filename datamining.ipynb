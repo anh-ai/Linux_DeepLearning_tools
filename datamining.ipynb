{
 "cells": [
  {
   "cell_type": "markdown",
   "metadata": {},
   "source": [
    "# Audio files Processing"
   ]
  },
  {
   "cell_type": "raw",
   "metadata": {},
   "source": [
    "Named:\n",
    "\n",
    "{Originnal name}_ {Total sentences in file} {Order in this sentence} _ (女=0|男=1} _ {普通话=0|其他=1}\n",
    "[15]              [2]                        [2]                        [1]          [1]                 \n",
    "example:\n",
    "\n",
    "{'id': '810920017106987.wav',\n",
    "  'labels': [{'end_time': '0.1264135864135864',\n",
    "              'label_text': 'valid_unDialect_man_[性别] 1 女, 2 男 [语言] 1 普通话, 2 普通话 [角色] 1 客服, 2 用户',\n",
    "              'start_time': '0.05322677322677323',\n",
    "              'type': 0},\n",
    "             {'end_time': '1.4770429570429573',\n",
    "              'label_text': 'valid_unDialect_man_2喂',\n",
    "              'start_time': '0.2062537462537462',\n",
    "              'type': 0},\n",
    "             {'end_time': '5.8416383616383625',\n",
    "              'label_text': 'valid_unDialect_woman_1你好这边是中国银行信用卡中心您是李钊李先生吗',\n",
    "              'start_time': '1.4703896103896104',\n",
    "              'type': 0}]},\n",
    "===>\n",
    "810920017106987.wav\n",
    "810920017106987.wav.info  :         {start_time}:{end_time}:{wav file name}\n",
    "                                    {start_time}:{end_time}:{wav file name}\n",
    "                                    ............\n",
    "                                    {start_time}:{end_time}:{wav file name}\n",
    "\n",
    "810920017106987_0201_10.wav\n",
    "810920017106987_0201_10.wav.txt\n",
    "\n",
    "810920017106987_0202_00.wav\n",
    "810920017106987_0202_00.wav.txt\n"
   ]
  },
  {
   "cell_type": "markdown",
   "metadata": {},
   "source": [
    "## Install requirement:"
   ]
  },
  {
   "cell_type": "code",
   "execution_count": null,
   "metadata": {},
   "outputs": [],
   "source": [
    " "
   ]
  },
  {
   "cell_type": "markdown",
   "metadata": {},
   "source": [
    "## Setup enviroment:"
   ]
  },
  {
   "cell_type": "code",
   "execution_count": 69,
   "metadata": {},
   "outputs": [
    {
     "data": {
      "text/html": [
       "\n",
       "<style>\n",
       "    div#notebook-container    { width: 95%; }\n",
       "    div#menubar-container     { width: 65%; }\n",
       "    div#maintoolbar-container { width: 99%; }\n",
       "</style>\n"
      ],
      "text/plain": [
       "<IPython.core.display.HTML object>"
      ]
     },
     "metadata": {},
     "output_type": "display_data"
    }
   ],
   "source": [
    "from IPython.display import display, HTML\n",
    "\n",
    "display(HTML(data=\"\"\"\n",
    "<style>\n",
    "    div#notebook-container    { width: 95%; }\n",
    "    div#menubar-container     { width: 65%; }\n",
    "    div#maintoolbar-container { width: 99%; }\n",
    "</style>\n",
    "\"\"\"))"
   ]
  },
  {
   "cell_type": "markdown",
   "metadata": {},
   "source": [
    "# Code:"
   ]
  },
  {
   "cell_type": "code",
   "execution_count": null,
   "metadata": {
    "scrolled": false
   },
   "outputs": [],
   "source": [
    "# 1\n",
    "from pprint import pprint as pp\n",
    "import json\n",
    "import numpy as np\n",
    "from os.path import join, exists\n",
    "\n",
    "pPath='/home/u/2018/grgDBs'\n",
    "lblfile=\"20180629_all_voice_labels1.json\"\n",
    "\n",
    "FnJson=join(pPath,lblfile)\n",
    "with open(FnJson) as data_file:data_loaded = json.load(data_file)\n",
    "pp(data_loaded)\n"
   ]
  },
  {
   "cell_type": "code",
   "execution_count": null,
   "metadata": {
    "scrolled": true
   },
   "outputs": [],
   "source": [
    "#data_loaded[0]['labels']#['label_text']\n",
    "#!pip install git+https://github.com/jiaaro/pydub.git@master"
   ]
  },
  {
   "cell_type": "code",
   "execution_count": 6,
   "metadata": {},
   "outputs": [],
   "source": [
    "# This is exactly labels, will be count to delete (wrong label)\n",
    "Invalid_kw = [\"invalid___\",\n",
    "              \"valid_dialect_man_\",\n",
    "              \"valid_unDialect_woman_\",\n",
    "              'valid_unDialect_man_[SIL]','valid_unDialect_man_【SIL】',\n",
    "              'valid_unDialect_man_[*]',  'valid_unDialect_man_【*】',\n",
    "              'other_[SIL]'\n",
    "             ];\n",
    "# This list is start words in labels, if have them, that label will be ignore.\n",
    "Invalid_inLabel=[\n",
    "    \"man_[\",\n",
    "    \"woman_[\",\n",
    "    \"valid_dialect_man_\",\n",
    "    \"man_[SIL]\",\n",
    "    \"man_【\",\n",
    "    \"woman_【\",\n",
    "    'invalid___',\n",
    "    'other_[',\n",
    "    'man_{',\n",
    "    'man_2[*]',\n",
    "    'man_1[*]'\n",
    "]"
   ]
  },
  {
   "cell_type": "code",
   "execution_count": null,
   "metadata": {
    "scrolled": false
   },
   "outputs": [],
   "source": [
    "import os\n",
    "c=0\n",
    "LwInfo=[]\n",
    "Llabels=[]\n",
    "fs=[]\n",
    "DEBUG=0\n",
    "for k, dat in enumerate(data_loaded):\n",
    "    c+=1\n",
    "    flag_invalid=0\n",
    "    for i, sent in enumerate(dat['labels']):\n",
    "        for kw in Invalid_kw:\n",
    "            if sent['label_text']==kw:\n",
    "                flag_invalid+=1\n",
    "    if flag_invalid==len(dat['labels']):\n",
    "        #if(DEBUG):print(\"This file is not valid:\",dat[\"id\"])\n",
    "        a=1\n",
    "    else:\n",
    "        #if(DEBUG):pp(dat['labels'])\n",
    "        if(DEBUG):pp(dat[\"id\"])\n",
    "        fs.append(dat[\"id\"])\n",
    "        #----------------------------------------\n",
    "        # Labels:\n",
    "        for Sector in dat['labels']:\n",
    "            lab=Sector[\"label_text\"].replace(\"valid_unDialect_\",\"\")\n",
    "            lab=lab.replace(\"\\n\",\"\")\n",
    "            lab=lab.replace(\" \",\"\")\n",
    "            \n",
    "            fok=1\n",
    "            for ikw in Invalid_inLabel:\n",
    "                if lab.find(ikw)>-1:fok=0\n",
    "            if fok>0:\n",
    "                s1=\"%02.3f\"%(round(float(Sector[\"start_time\"]),3)); s1=s1.rjust(6)\n",
    "                s2=\"%02.3f\"%(round(float(Sector[\"end_time\"]),3));   s2=s2.rjust(6)\n",
    "                Llabels.append([s1,s2,lab]) #round(float(Sector[\"start_time\"]),3)\n",
    "            else:\n",
    "                #print('-------------',lab)\n",
    "                a=1\n",
    "        #----------------------------------------\n",
    "        if (len(Llabels)>0):pp(sorted(Llabels))\n",
    "        fnWavInfo='DBs_time2/'+dat[\"id\"]+'.info.np'\n",
    "        if not exists('DBs_time2/'):os.makedirs('DBs_time2/')\n",
    "        np.save(fnWavInfo,Llabels)                  # Save Array to file, to load, view, use:  dat=np.load(filename); pp(dat)\n",
    "        Llabels=[]\n",
    "        print()\n",
    "    \n",
    "    #if c>10:break    \n",
    "    if(DEBUG):print(\"------------------------------------------------\")\n",
    "#print(\"all files={}\".format(c))\n"
   ]
  },
  {
   "cell_type": "code",
   "execution_count": null,
   "metadata": {
    "scrolled": false
   },
   "outputs": [],
   "source": [
    "dat=np.load('DBs_time2/810920017105520.wav.info.np.npy'); pp(dat)\n",
    "\n"
   ]
  },
  {
   "cell_type": "markdown",
   "metadata": {},
   "source": [
    "d=[]\n",
    "d.append([1.123,1.255,'abc'])\n",
    "d.append([1.044,2.5,'asdabc'])\n",
    "sorted(d)\n",
    "for [s1,s2,s3] in d:\n",
    "    print(\"{}:{}:{}\".format(s1,s2,s3))\n",
    "s='man_2喂'    \n",
    "print(s.find('man_2'))"
   ]
  },
  {
   "cell_type": "raw",
   "metadata": {
    "scrolled": true
   },
   "source": [
    "#pp(data_loaded[-1]['labels'][0])\n",
    "#pp(data_loaded[-1]['labels'][1])\n",
    "#pp(data_loaded[-1]['labels'])\n",
    "#['label_text']"
   ]
  },
  {
   "cell_type": "markdown",
   "metadata": {
    "scrolled": true
   },
   "source": [
    "\n",
    "c=0\n",
    "fs=[]\n",
    "DEBUG=1\n",
    "for k, dat in enumerate(data_loaded):\n",
    "    c+=1\n",
    "    flag_invalid=0\n",
    "    for i, sent in enumerate(dat['labels']):\n",
    "        for kw in Invalid_kw:\n",
    "            if sent['label_text']==kw:\n",
    "                flag_invalid+=1\n",
    "    if flag_invalid==len(dat['labels']):\n",
    "        if(DEBUG):print(\"This file is not valid:\",dat[\"id\"])\n",
    "    else:\n",
    "        if(DEBUG):pp(dat['labels'])\n",
    "        if(DEBUG):pp(dat[\"id\"])\n",
    "        fs.append(dat[\"id\"])\n",
    "    \n",
    "    if c>10:break    \n",
    "    if(DEBUG):print(\"------------------------------------------------\")\n",
    "print(\"all files={}\".format(c))\n",
    "#pp(sorted(fs))"
   ]
  },
  {
   "cell_type": "markdown",
   "metadata": {},
   "source": [
    "c=0\n",
    "fis=[]\n",
    "for k, dat in enumerate(data_loaded):\n",
    "    c+=1 \n",
    "    fis.append(dat[\"id\"])"
   ]
  },
  {
   "cell_type": "code",
   "execution_count": 11,
   "metadata": {},
   "outputs": [
    {
     "name": "stdout",
     "output_type": "stream",
     "text": [
      "len of data: 1402\n"
     ]
    }
   ],
   "source": [
    "Data2save=sorted(fs)\n",
    "print(\"len of data:\",len(Data2save))\n",
    "Fo_dat=\"time2_database_info\"\n",
    "Fi_filenames=\"time2_Files_list_valid_only.txt\"\n",
    "\n",
    "from os.path import join, exists\n",
    "import os\n",
    "\n",
    "fn=join(Fo_dat,Fi_filenames)\n",
    "if not exists(Fo_dat):os.makedirs(Fo_dat)\n",
    "with open(fn, \"w\") as f:\n",
    "    for file in Data2save:\n",
    "        f.write(file+\"\\n\")\n",
    "#!tree"
   ]
  },
  {
   "cell_type": "code",
   "execution_count": null,
   "metadata": {
    "scrolled": false
   },
   "outputs": [],
   "source": [
    "Data2save "
   ]
  },
  {
   "cell_type": "code",
   "execution_count": null,
   "metadata": {
    "scrolled": false
   },
   "outputs": [],
   "source": [
    "!tree"
   ]
  },
  {
   "cell_type": "markdown",
   "metadata": {},
   "source": [
    "## Check if file wav exists:"
   ]
  },
  {
   "cell_type": "code",
   "execution_count": 29,
   "metadata": {},
   "outputs": [],
   "source": [
    "from glob import glob \n",
    "#wFiles=glob(join(pPath,Fo_dat,'*.*'))\n",
    "wFiles=join(pPath,Fo_dat,Fi_filenames)\n",
    "WavsList=[]\n",
    "with open(wFiles) as ff:Files=ff.read()\n",
    "Files=Files.split('\\n')\n",
    "del(Files[-1])\n",
    "\n",
    "\n",
    "wFiles=join(pPath,'time1_database_info/Files_list_valid_only.txt')\n",
    "WavsList1=[]\n",
    "with open(wFiles) as ff:Files1=ff.read()\n",
    "Files1=Files1.split('\\n')\n",
    "del(Files1[-1])\n",
    "\n",
    "len(Files1),Files1[:10]\n",
    "\n",
    "Alltexts=Files+Files1\n"
   ]
  },
  {
   "cell_type": "code",
   "execution_count": 35,
   "metadata": {},
   "outputs": [
    {
     "data": {
      "text/plain": [
       "(1643,\n",
       " ['810920017105520.wav',\n",
       "  '810920017105532.wav',\n",
       "  '810920017105546.wav',\n",
       "  '810920017105553.wav',\n",
       "  '810920017105555.wav'])"
      ]
     },
     "execution_count": 35,
     "metadata": {},
     "output_type": "execute_result"
    }
   ],
   "source": [
    "len(Alltexts), Alltexts[:5]"
   ]
  },
  {
   "cell_type": "code",
   "execution_count": 57,
   "metadata": {
    "scrolled": true
   },
   "outputs": [
    {
     "data": {
      "text/plain": [
       "(1413,\n",
       " ['/home/u/2018/grgDBs/17310/810920017105627.wav',\n",
       "  '/home/u/2018/grgDBs/17310/810920017106524.wav',\n",
       "  '/home/u/2018/grgDBs/17310/810920017106856.wav'])"
      ]
     },
     "execution_count": 57,
     "metadata": {},
     "output_type": "execute_result"
    }
   ],
   "source": [
    "pwavs='/home/u/2018/grgDBs/17310'\n",
    "wFiles=glob(join(pwavs,'*.wav'))\n",
    "len(wFiles),wFiles[:3]"
   ]
  },
  {
   "cell_type": "code",
   "execution_count": 56,
   "metadata": {},
   "outputs": [
    {
     "data": {
      "text/plain": [
       "(0,\n",
       " 0,\n",
       " 1233,\n",
       " 1233,\n",
       " ['810920017105627',\n",
       "  '810920017106524',\n",
       "  '810920017106856',\n",
       "  '810920017106272',\n",
       "  '810920017105617'],\n",
       " ['810920017106565',\n",
       "  '810920017106826',\n",
       "  '810920017106073',\n",
       "  '810920017106078',\n",
       "  '810920017105799'])"
      ]
     },
     "execution_count": 56,
     "metadata": {},
     "output_type": "execute_result"
    }
   ],
   "source": [
    "# Xoa het cac file trung lap:\n",
    "# copy wave va lbl vao dung 2 thu muc ben duoi:\n",
    "# Chay chuong trinh:\n",
    "\n",
    "pOutW='/home/u/2018/grgDBs/GRG_Wavs'\n",
    "pOutL='/home/u/2018/grgDBs/GRG_labels'\n",
    "import shutil\n",
    "\n",
    "Wfs=glob(join(pOutW,'*.*'))\n",
    "Lfs=glob(join(pOutL,'*.*'))\n",
    "\n",
    "Waves=[wa.split('/')[-1].split('.')[0] for wa in Wfs]    \n",
    "Labes=[wa.split('/')[-1].split('.')[0] for wa in Lfs]    \n",
    "\n",
    "Chung=set(Waves) & set(Labes)\n",
    "cnt=0\n",
    "cnt1=0\n",
    "for wa in Wfs:\n",
    "    if not(wa.split('/')[-1].split('.')[0] in Chung):\n",
    "        if exists(wa):\n",
    "            os.remove(wa)\n",
    "            cnt+=1\n",
    "        \n",
    "for wa in Lfs:\n",
    "    if not(wa.split('/')[-1].split('.')[0] in Chung):\n",
    "        if exists(wa):\n",
    "            os.remove(wa)\n",
    "            cnt1+=1\n",
    "cnt, cnt1, len(Waves), len(Labes), Waves[:5], Labes[:5]"
   ]
  },
  {
   "cell_type": "markdown",
   "metadata": {},
   "source": [
    "## Split Audio by second: Start - Stop"
   ]
  },
  {
   "cell_type": "code",
   "execution_count": 73,
   "metadata": {},
   "outputs": [],
   "source": [
    "import librosa as lbs\n",
    "def monoWavRead(filename=''):\n",
    "    #print('=============trong ham doc file:',filename)\n",
    "    x,fs = lbs.load(filename,res_type='kaiser_fast')\n",
    "    if (x.ndim==1):\n",
    "        samples = x\n",
    "    else:\n",
    "        samples = x[:, 0]\n",
    "    return fs, samples\n",
    "def write(filename, rate , data  ):\n",
    "    #print('=============trong ham write file:',filename)\n",
    "    lbs.output.write_wav(filename, y=data, sr=rate)\n",
    "    \n",
    "    #lbs.output.write_wav(filename, y=data.astype(np.int16), sr=rate)\n",
    "    #print('write wav ok')\n",
    "    \n",
    "    #y=data.astype(np.int16): view\n",
    "    # https://stackoverflow.com/questions/47870412/librosa-cant-open-wav-created-by-librosa\n",
    "    "
   ]
  },
  {
   "cell_type": "code",
   "execution_count": 61,
   "metadata": {},
   "outputs": [
    {
     "data": {
      "text/plain": [
       "['/home/u/2018/grgDBs/GRG_labels/810920017106565.wav.info.np.npy',\n",
       " '/home/u/2018/grgDBs/GRG_labels/810920017106826.wav.info.np.npy',\n",
       " '/home/u/2018/grgDBs/GRG_labels/810920017106073.wav.info.np.npy']"
      ]
     },
     "execution_count": 61,
     "metadata": {},
     "output_type": "execute_result"
    }
   ],
   "source": [
    "Lfs=glob(join(pOutL,'*.*'))\n",
    "Lfs[:3]"
   ]
  },
  {
   "cell_type": "code",
   "execution_count": 109,
   "metadata": {},
   "outputs": [
    {
     "name": "stdout",
     "output_type": "stream",
     "text": [
      "810920017106565.wav\n",
      "1\n"
     ]
    }
   ],
   "source": [
    "pOutMulti='/home/u/2018/grgDBs/GRG_Wavs_multi'\n",
    "Lfs=glob(join(pOutL,'*.*'))\n",
    "cnt=0\n",
    "for Lbl1 in Lfs[:1]:\n",
    "    #Lbl1=Lfs[0]\n",
    "    cnt+=1\n",
    "    wf=Lbl1.split('/')[-1].split('.')[0]+'.wav'\n",
    "    #print(wf)\n",
    "    wfn=join(pOutW,wf)\n",
    "    Labels=np.load(Lbl1)\n",
    "    Secments=len(Labels)\n",
    "    for k in range(Secments):\n",
    "        #k=0\n",
    "\n",
    "        sta=float(Labels[k][0])\n",
    "        end=float(Labels[k][1])\n",
    "        lbl1=Labels[k][2]\n",
    "        #print(star,ends)\n",
    "\n",
    "        # Đọc file label, đổi giây sang frame\n",
    "        fs, dat = monoWavRead(wfn) \n",
    "        star=round(sta*fs)\n",
    "        ends=round(end*fs)\n",
    "        #print(star,ends,len(dat))\n",
    "\n",
    "        # Cắt frame đầu cuối\n",
    "        Data=dat[star:ends]\n",
    "\n",
    "        # Lưu vào file:\n",
    "        #filename=\n",
    "        #write(filename, rate , data  ):\n",
    "\n",
    "        if (Secments>99):\n",
    "            sFn=    \"_{0:03d}_{1:03d}_({2}-{3})\".format(Secments,k,Labels[k][0],Labels[k][1])\n",
    "        else:\n",
    "            sFn=    \"_{0:02d}_{1:02d}_({2}-{3})\".format(Secments,k,Labels[k][0],Labels[k][1])\n",
    "        outfile=wf.replace('.wav',sFn+'.wav')\n",
    "        outfile=join(pOutMulti,outfile)\n",
    "        write(outfile, fs , Data  )\n",
    "        with open(outfile.replace('.wav','.txt'),'w') as ff:\n",
    "            ff.write(lbl1)\n",
    "print(cnt)"
   ]
  },
  {
   "cell_type": "code",
   "execution_count": null,
   "metadata": {
    "scrolled": true
   },
   "outputs": [],
   "source": [
    "## Join label from multi-files to 1 big file:\n",
    "LBLs=[] \n",
    "cnt=0\n",
    "for txt1 in glob(join(pOutMulti,'*.txt')):\n",
    "    with open(txt1) as ff:lbl=ff.read()\n",
    "    wf=txt1.split('/')[-1].replace(\".txt\",\"\")\n",
    "    if (cnt%1000==0):print(wf,lbl)\n",
    "    LBLs.append([wf,lbl])\n",
    "    cnt+=1\n",
    "    #if cnt>10:break\n",
    "np.save(join(pOutMulti,'000_All_labels'),LBLs)\n",
    "\n",
    "with open(join(pOutMulti,'000_All_labels_guide.txt'),'w') as ff:\n",
    "    ff.write('[\\n    [filename, label]\\n    [filename, label]\\n    ....\\n]\\n')\n",
    "    ff.write(\"pOutMulti_alllabels=join(pOutMulti,'000_All_labels.npy')\\n\")\n",
    "    ff.write(\"AllLbls=np.load(pOutMulti_alllabels)\\n\")\n",
    "    ff.write(\"AllLbls[:10]\")"
   ]
  },
  {
   "cell_type": "markdown",
   "metadata": {},
   "source": [
    "## check label short wav long:"
   ]
  },
  {
   "cell_type": "code",
   "execution_count": 136,
   "metadata": {
    "scrolled": true
   },
   "outputs": [],
   "source": [
    "#Read all label back to process:\n",
    "pOutMulti_alllabels=join(pOutMulti,'000_All_labels.npy')\n",
    "AllLbls=np.load(pOutMulti_alllabels)\n",
    "#AllLbls = sorted(AllLbls, key=lambda tup: tup[0])\n",
    "AllLbls.sort(key=lambda tup: tup[0])\n",
    "AllLbls[:5]"
   ]
  },
  {
   "cell_type": "code",
   "execution_count": null,
   "metadata": {},
   "outputs": [],
   "source": [
    "with open(join(pPath,'GRG_Wavs_multi.txt'),'w') as ff:\n",
    "    for fn,lbl1 in (AllLbls):\n",
    "        ff.write(fn+'|'+lbl1+'\\n')"
   ]
  },
  {
   "cell_type": "code",
   "execution_count": 155,
   "metadata": {},
   "outputs": [],
   "source": [
    "## Write All problems to files:\n",
    "\n",
    "Need2View=['[UNK]','[SIL]']\n",
    "with open(join(pPath,'GRG_Wavs_multi_Need2Review.txt'),'w') as ff:\n",
    "    for fn,lbl1 in (AllLbls):\n",
    "        flagOK=0\n",
    "        for W in Need2View:\n",
    "            if W in lbl1: flagOK=1\n",
    "        if flagOK:\n",
    "            ff.write(fn+'|'+lbl1+'\\n')\n",
    "\n",
    "# files lbl longer than 50 words:\n",
    "with open(join(pPath,'GRG_Wavs_multi_longer50.txt'),'w') as ff:\n",
    "    for fn,lbl1 in (AllLbls):\n",
    "        if len(lbl1)>50:\n",
    "            ff.write(fn+'|'+lbl1+'\\n')"
   ]
  },
  {
   "cell_type": "code",
   "execution_count": 162,
   "metadata": {},
   "outputs": [],
   "source": [
    "# Listen to a file:\n",
    "from pydub import AudioSegment\n",
    "from pydub.playback import play\n",
    "\n",
    "fil='810920017106452_26_12_(64.570-79.750).wav'\n",
    "wfile1=join(pOutMulti,fil)\n",
    "song = AudioSegment.from_wav(wfile1) #fnname)\n",
    "play(song)\n"
   ]
  },
  {
   "cell_type": "code",
   "execution_count": null,
   "metadata": {},
   "outputs": [],
   "source": []
  }
 ],
 "metadata": {
  "kernelspec": {
   "display_name": "Python 3",
   "language": "python",
   "name": "python3"
  },
  "language_info": {
   "codemirror_mode": {
    "name": "ipython",
    "version": 3
   },
   "file_extension": ".py",
   "mimetype": "text/x-python",
   "name": "python",
   "nbconvert_exporter": "python",
   "pygments_lexer": "ipython3",
   "version": "3.6.5"
  }
 },
 "nbformat": 4,
 "nbformat_minor": 2
}
