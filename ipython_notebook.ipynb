#%matplotlib inline
%matplotlib notebook
import numpy as np
from os.path import join
from pprint import pprint as pp
# Plot Spectrogram:
from scipy.io import wavfile
from scipy import signal
import matplotlib.pyplot as plt
import matplotlib.image as mpimg
from matplotlib import cm
from matplotlib import animation
import glob

# keyword: 公司
fnPath='/media/ubu/Prog/AudioDBs/DBfull_aishell/wavs/test/S0916'
fns=[
    'BAC009S0916W0489',
    'BAC009S0916W0490',
    'BAC009S0916W0491',
    'BAC009S0916W0492',
    'BAC009S0916W0493'
]
fnExt='.wav'
laPath='/media/ubu/Prog/AudioDBs/DBfull_aishell/transcript/aishell_transcript_v0.8.txt'
fwav='/media/ubu/Prog/AudioDBs/DBfull_aishell/wavs/test/S0916/BAC009S0916W0492.wav'
fimg='/home/ubu/2018/taKWS/imgs/BAC009S0916W0492.png'
fis=glob.glob(join(fnPath,'*.wav'))
len(fis),fis[:3]


#%%

with open(laPath)as f:
    lines = f.read().splitlines()
L=[ line1.split('     ') for line1 in lines]
    
pp(lines[-3:])
print()
pp(L[-3:])

#%%

import matplotlib as mpl
def taDisp(DAT,w=8,h=4):
    fig = plt.figure(figsize=(w,h));
    plt.axis('on')
    fig.tight_layout()
    mpl.rcParams['axes.linewidth'] = 1
    plt.imshow(DAT, cmap = plt.get_cmap('gray'));plt.show()
    #plt.plot(DAT)
    
    
#%%
%matplotlib inline
#%matplotlib notebook
AUDIOs=[]
for fn in fns:
    audiopath=join(fnPath,fn+fnExt)
    print(audiopath)
    fs, x = wavfile.read(audiopath)
    f, t, Sxx = signal.spectrogram(x, fs)
    plt.pcolormesh(t, f, Sxx)
    plt.ylabel('Frequency [Hz]')
    plt.xlabel('Time [sec]')
    plt.show()
    
#%%

import matplotlib.pyplot as plt
from scipy import signal
from scipy.io import wavfile

sample_rate, samples = wavfile.read('/media/ubu/Prog/AudioDBs/DBfull_aishell/wavs/test/S0916/BAC009S0916W0489.wav')
frequencies, times, spectrogram = signal.spectrogram(samples, sample_rate)

plt.pcolormesh(times, frequencies, spectrogram)
plt.imshow(spectrogram)
plt.ylabel('Frequency [Hz]')
plt.xlabel('Time [sec]')
plt.show()

#%%
import IPython.display
noprev=10
def taPP(audio,s):
    return
    #print()
    print('print:'+s)
    pp(audio[:noprev])
    minau=min(audio)
    maxau=max(audio)
    print(minau,maxau)
import scipy
from scipy.io import wavfile
from scipy import signal
import numpy as np
from IPython.display import Image
    #Image(filename='imgs/1.png', width=930) 

import matplotlib
# Read the .wav file

fns=sorted(fns)
for fn in fns :
    fn=fn.split('/')[-1].split('.')[0]
    audiopath=join(fnPath,fn+fnExt)
    print(audiopath)

    sample_rate, audio = wavfile.read(audiopath)
    audio = np.asarray(audio,dtype='float32')
    taPP(audio,'111')

    minau=min(audio)
    maxau=max(audio)
    audio=(audio-minau)/(maxau-minau)
    taPP(audio,'222')

    minau=min(audio)
    maxau=max(audio)

    audio=audio*(2)-1
    taPP(audio,'444')
    
    #audio=abs(audio)

    #low_values_flags = audio > 0.8 # Where values are low
    #audio[low_values_flags] = minau # All low values set to 0

    f, t, Sxx = signal.spectrogram(audio, sample_rate)  
    
    dBS = 10 * np.log10(Sxx)   
     
    fig = plt.figure(figsize=(Sxx.shape[1]//50,Sxx.shape[0]//50))
    
    plt.axis('off')
    plt.pcolormesh(t, f , dBS)
    #plt.ylabel('Frequency [Hz]')
    #plt.xlabel('Time [sec]')
    fig.tight_layout()
    plt.subplots_adjust(left=0.1, right=0.9, top=0.9, bottom=0.1)
    plt.savefig('imgs/'+fn+'.png',bbox_inches='tight', pad_inches=0)
    #plt.imsave('imgs/'+fn+'_3.png', Sxx, format="png")
     
    plt.show()  
    print('Sxx.shape=',Sxx.shape)
     
'''         
for r in range(Sxx.shape[0]):
    f=0
    for c in range(Sxx.shape[1]):
        if Sxx[r,c]>0.00002:
            print("%f"%(Sxx[r,c]),end=' ',flush=True)
            f=1
    if f>0:
        print()
''' 
#%%
IPython.display.Audio(data=audio, rate=sample_rate)
#%%
import time
import glob
fis=glob.glob('/home/ubu/2018/taKWS/imgs/*.png')
fis=sorted(fis)
#pp(fis)
imgARR=[]
for fi in fis:
    #print('plt.figure();fi="'+fi+'"')
    #print('img=mpimg.imread(fi)')
    #print('imgplot = plt.imshow(img)')
    img=mpimg.imread(fi)
    imgARR.append(img)
    print(fi,img.shape)
    fig = plt.figure(num=None, figsize=(img.shape[1]/50,img.shape[0]/50))
    
    plt.imshow(img,cmap='gray')
    
    plt.show()
    #pp(img[:3])
print(len(imgARR))
#%%
im1=imgARR[0]
im2=imgARR[1]
im1.shape, im2.shape

#%%
im=1-im1
for k in range(30):
    pp(im[0,0,:])
    #pp(im1[50,300+k,:])
#%%
%matplotlib inline
#%matplotlib notebook
from matplotlib.pyplot import imshow
 

# imshow(imread('image.jpg', 1))
#img=mpimg.imread(fi)
#fig = plt.figure() #num=None, figsize=(im.shape[1]/50,im.shape[0]/50))
#plt.imshow(im1,cmap='gray');plt.show()
 
#im = mpimg.imread('/home/ubu/2018/taKWS/imgs/BAC009S0916W0493.png')  
#print(im.shape)
#h, w, c = im.shape  
 

#colors = [sum(im[r,c,:]) for r in range(h) for c in range(w) ]

#fig = plt.figure(figsize=(6,4));#plt.plot(colors[1000:2000]);plt.show()

import numpy as np
import matplotlib.pyplot as plt
import matplotlib.image as mpimg

def rgb2gray(rgb):
    return np.dot(rgb[...,:3], [0.299, 0.587, 0.114])

img = mpimg.imread('/home/ubu/2018/taKWS/imgs/BAC009S0916W0493.png')     
gray = rgb2gray(img)   
taDisp(gray,gray.shape[1]/40,gray.shape[0]/40)

#gray1=(gray-mi)/(ma-mi)*255
#mi,ma=gray1.min(),gray1.max()
#print(mi,ma)
#fig = plt.figure(figsize=(6,4));plt.imshow(gray1, cmap = plt.get_cmap('gray'));plt.show()

img2 = mpimg.imread('/home/ubu/2018/taKWS/imgs/BAC009S0916W0492.png')     
gray2 = rgb2gray(img2) 
taDisp(gray2,gray2.shape[1]/40,gray2.shape[0]/40)
#gray2=(gray-mi)/(ma-mi)*255
#mi,ma=gray2.min(),gray2.max()
#print(mi,ma)
#fig = plt.figure(figsize=(6,4));plt.imshow(gray2, cmap = plt.get_cmap('gray'));plt.show()
#%%
print(gray.shape)
#taDisp(gray,gray.shape[1]/40,gray.shape[0]/40)
T=20
f, axarr = plt.subplots(1,T+1, sharey=True,figsize=(15,5))
r=round(gray.shape[1]//T)
k=0
w=0
for _ in range(0,T+1):
    w1=gray[:,w:w+r]; axarr[k].imshow(w1);k+=1;w+=r
    
    
plt.show()
#taDisp(w1,gray.shape[1]/40,gray.shape[0]/40)

print(gray2.shape)
#taDisp(gray2,gray2.shape[1]/40,gray2.shape[0]/40)
#%%
%matplotlib inline
#z=np.zeros(gray.shape,dtype='float')
#print(z.shape,gray2.shape)
#z=np.concatenate([z,gray2],axis=1)
w1=gray.shape[1];  h1=gray.shape[0]
w2=gray2.shape[1]; h2=gray2.shape[0]
print(w1)
A =gray [5:h1-24,45:w1-3]
B =gray2[5:h2-24,45:w2-3]
taDisp(A,8,4)   
#taDisp(B)

#Convolution:
# Lam dong dang: sex de so sanh hon
A1=A.copy()
alpha=0.5
for hang in range(A1.shape[0]):
    for cot in range(A1.shape[1]-1):
        A1[hang,cot]=A1[hang,cot] * alpha + A1[hang,cot+1] * (1-alpha)
taDisp(A1,8,4)     
pp(A1[50:51,50:53])
A2=A1.copy()
alpha=0.5
for hang in range(A2.shape[0]-1):
    for cot in range(A2.shape[1]):
        A2[hang,cot]=A2[hang,cot] * alpha + A2[hang+1,cot] * (1-alpha)
taDisp(A2,8,4)   
pp(A2[50:51,50:53])
#%%
C=[]

step=30
AW=A.shape[1]
BW=B.shape[1]

ad,ac=AW-step,AW
bd,bc=0,0+step
tA=A[:,ad:ac]
tB=B[:,bd:bc]
tC=tA-tB
C=tC
taDisp(tC)

ad=ad-step
#ac=ac-step # chua het M nen chua lui
bd=0 #bd+step
bc=bc+step
tA=A[:,ad:ac]
tB=B[:,bd:bc]
tC=tA-tB
C=np.concatenate([C,tC],axis=1)
taDisp(tC)

ad=ad-step
#ac=ac-step # chua het M nen chua lui
bd=0 #bd+step
bc=bc+step
tA=A[:,ad:ac]
tB=B[:,bd:bc]
tC=tA-tB
C=np.concatenate([C,tC],axis=1)
taDisp(tC)

ad=ad-step
#ac=ac-step # chua het M nen chua lui
bd=0 #bd+step
bc=bc+step
tA=A[:,ad:ac]
tB=B[:,bd:bc]
tC=tA-tB
C=np.concatenate([C,tC],axis=1)
taDisp(tC)

ad=ad-step
#ac=ac-step # chua het M nen chua lui
bd=0 #bd+step
bc=bc+step
tA=A[:,ad:ac]
tB=B[:,bd:bc]
tC=tA-tB
C=np.concatenate([C,tC],axis=1)
taDisp(tC)

ad=ad-step
#ac=ac-step # chua het M nen chua lui
bd=0 #bd+step
bc=bc+step
tA=A[:,ad:ac]
tB=B[:,bd:bc]
tC=tA-tB
C=np.concatenate([C,tC],axis=1)
taDisp(tC)

ad=ad-step
#ac=ac-step # chua het M nen chua lui
bd=0 #bd+step
bc=bc+step
tA=A[:,ad:ac]
tB=B[:,bd:bc]
tC=tA-tB
C=np.concatenate([C,tC],axis=1)
taDisp(tC)

ad=ad-step
#ac=ac-step # chua het M nen chua lui
bd=0 #bd+step
bc=bc+step
tA=A[:,ad:ac]
tB=B[:,bd:bc]
#tC=tA-tB
#C=np.concatenate([C,tC],axis=1)
taDisp(tA)
#%%
w1=gray.shape[1];  h1=gray.shape[0]
w2=gray2.shape[1];  h2=gray2.shape[0]

print(h1,w1,h2,w2)
A =gray [4:h1-17,33:w1-3]
B =gray2 [4:h2-17,33:w2-3]
#%%

def taPlot(M):
    fig = plt.figure()
    plt.plot(M)
    plt.grid()
    plt.show()
def taPlot2(M):
    fig = plt.figure()
    for m in M:
        plt.plot(m)
    plt.grid()
    plt.show()
    
def taDisp3D(M,w=12,h=12,showshape=False,st=''):
    if showshape:print(st,M.shape)
    Mdpls=M
    x, y = np.mgrid[0:Mdpls.shape[0], 0:Mdpls.shape[1]]
    plt.figure(figsize=(w,h))
    ax = plt.gca(projection='3d')
    ax.plot_surface(x, y, Mdpls[x,y], cmap='hot',rstride=2, cstride=2)#,facecolors=img)
    plt.show()
    
def taDisp3D2(M,w=12,h=12,showshape=False):
    if showshape:print(M.shape)
    x0,y0=0,0
    for Mk in M:
        if x0<Mk.shape[0]:x0=Mk.shape[0]
        if y0<Mk.shape[1]:y0=Mk.shape[1]
    
    x, y = np.mgrid[0:x0, 0:y0]
    plt.figure(figsize=(w,h))
    ax = plt.gca(projection='3d')
    cmapk=[cm.spring,cm.summer,cm.autumn,cm.winter,cm.cool,cm.Wistia]
    for k,Mk in enumerate(M):
        ax.plot_surface(x, y, Mk[x,y], cmap=cmapk[k%6],rstride=2, cstride=2)#, antialiased=True)#,facecolors=img)
        #ax.plot_surface(x, y, M2[x,y], cmap=cm.autumn,rstride=2, cstride=2)#, antialiased=True)#,facecolors=img)
    plt.show()
 
    
def taLowFilter(M,rowfil=0.9,colfil=0.9):
    Mdpls=M
    r,c=Mdpls.shape
    M=np.zeros([r,c],dtype='float')
    M[0,:]=Mdpls[1,:]
    alpha=rowfil
    for hang in range(1,Mdpls.shape[0]):
        for cot in range(Mdpls.shape[1]):
            M[hang,cot]=M[hang-1,cot] * alpha + Mdpls[hang,cot] * (1-alpha)
    Mdpls=M
    M=np.zeros([r,c],dtype='float')
    M[:,0]=Mdpls[:,0]
    alpha=colfil
    for hang in range(Mdpls.shape[0]):
        for cot in range(1,Mdpls.shape[1]):
            M[hang,cot]=M[hang,cot-1] * alpha + Mdpls[hang,cot] * (1-alpha)
    return M
def taMaxPool(M,Qx=None,Qy=None): # M: input, Qx,Qy: size of output<=size of input
    if Qx==None:
        Qx=M.shape[0]//2
        Qy=M.shape[1]//2
    kx=M.shape[0]/Qx
    ky=M.shape[1]/Qy
    MQ=np.zeros([Qx,Qy],dtype='float')
    for row in range(MQ.shape[0]):
        for col in range(MQ.shape[1]):
            x0=round(kx*row);x1=round(kx*(row+1))
            y0=round(ky*col);y1=round(ky*(col+1))
            MQ[row,col]=np.amax(M[x0:x1,y0:y1])
    return MQ
#M=np.arange(30).reshape(5,6)
#MQ=taMaxPool(M,3,4)
#pp(M)
#pp(MQ)
def taSubM(A,B,startB=0,printB=False):
    if printB:print(startB)
    if startB==0:
        return
    mA=A
    mB=B
    mAh,lenA=mA.shape
    mBh,lenB=mB.shape
    tA=np.ones ([mAh,lenA+2*lenB+1],dtype='float')
    tB=np.zeros([mBh,lenA+2*lenB+1],dtype='float')
    lent_B=tB.shape[1]
    #startA=lenA
    tA1=np.concatenate([tA[:,0:lenB],mA,tA[:,lenB+lenA:]], axis=1)
    stopB=startB+lenB
    if stopB>=lent_B:stopB=lent_B-1
    tB1=np.concatenate([tB[:,0:startB],mB,tB[:,stopB:]], axis=1)
    tA1=tA1[:,:lent_B]
    tB1=tB1[:,:lent_B]
    
    tC1=tA1-tB1
    return tA1,tB1,tC1,

mA=np.random.randint(2,9, size=(3,5))
mB=np.random.randint(2,9, size=(3,6))

startB=mB.shape[1]+mA.shape[1]+1 # startB=lenA+lenA. +1 la vi se tru truoc khi thuc hien
tA1,tB1,tC1=taSubM(mA,mB,startB=startB)
pp(tA1)
pp(tB1)
pp(tC1)

#%%
%matplotlib notebook
import matplotlib.pyplot as plt
from mpl_toolkits.mplot3d import Axes3D
from matplotlib.cbook import get_sample_data
from matplotlib._png import read_png
import numpy as np

#fn = get_sample_data(fimg, asfileobj=False)
#img = read_png(fn)
 
#f, (ax1, ax2) = plt.subplots(2, 1) #, sharey=True)

#taDisp3D(A,12,8)
#taDisp3D(B,12,8)
MA=taLowFilter(B)
MB=taLowFilter(A)
#taDisp3D(MA,15,15,showshape=True,st='MA')
#taDisp3D(MB,15,15,showshape=True,st='MB')
MAS=B
MBS=A
#MAS=taMaxPool(MA);#taDisp3D(MAS,12,8,showshape=True) 
#MBS=taMaxPool(MB);#taDisp3D(MBS,12,8,showshape=True) 
startB=MBS.shape[1]+MAS.shape[1]+1
kqC=[]
print(MAS.shape,MBS.shape)
#%%
%matplotlib notebook
from matplotlib import animation
fig = plt.figure()
ax2 = fig.add_subplot(1,1,1)
plt.grid()
mA=taMaxPool(MAS)
mB=taMaxPool(MBS)
startB=len(mB[0])+1
def animate(i):
    global startB
    print(startB)
    tA1,tB1,tC1=taSubM(mA,mB,startB=startB)
    tA2=np.sum(abs(tA1),axis=0)
    tB2=np.sum(abs(tB1),axis=0)
    tC2=np.sum(abs(tC1),axis=0)
    #tC2=np.sum(3*abs(tC1),axis=0)
    #tC3=tC2[MBS.shape[1]:MBS.shape[1]+MAS.shape[1]]
    #taPlot(tC2)
    startB-=1 
    if startB<1:
        startB=MBS.shape[1]+MAS.shape[1]+1
    #kqC.append(tC2)
    #kqC.append(tC3)
    #taPlot(tC3)
    ax2.clear()
    #ax2.plot(tA2)
    #ax2.plot(tB2)
    ax2.plot(tC2)
    ax2.grid()
    ax2.set_yscale('log')
    plt.show()
    
animate(0)    
#ani = animation.FuncAnimation(fig, animate, interval=1000)
#taPlot2(kqC)

#%%
#%matplotlib inline
%matplotlib notebook
from matplotlib import animation
#startB-=1
#print(startB)
#
#taDisp3D(tA1,5,5)
#taDisp3D(tB1,5,5)
#taDisp3D2([tA1,tB1],7,7)
#taDisp3D(tC1,5,5),tC1

import matplotlib.image as mpimg

def rgb2gray(rgb):
    return np.dot(rgb[...,:3], [0.299, 0.587, 0.114])
img = mpimg.imread('/home/ubu/2018/taKWS/imgs/BAC009S0916W0493.png')     
gray = rgb2gray(img)   
#taDisp(gray,gray.shape[1]/40,gray.shape[0]/40)

img2 = mpimg.imread('/home/ubu/2018/taKWS/imgs/BAC009S0916W0492.png')     
gray2 = rgb2gray(img2) 
#taDisp(gray2,gray2.shape[1]/40,gray2.shape[0]/40)


fig = plt.figure(figsize=(12,8))
ax  = fig.add_subplot(1,1,1)
ax = plt.gca(projection='3d')
ma=taMaxPool(gray)
mb=taMaxPool(gray2)
MAS=taMaxPool(ma)
MBS=taMaxPool(mb)
startB=MBS.shape[1]+MAS.shape[1]+1
def taAnimate(i ):
    global startB 
    if startB>0:
        startB-=1
    else:
        startB=MBS.shape[1]+MAS.shape[1]+1
    print(startB)
    tA1,tB1,tC1=taSubM(MAS,MBS,startB=startB)
    #taDisp3D(tA1,5,5)
    #taDisp3D(tB1,5,5)
    taDisp3D2([tA1,tB1,tC1],7,7)
    M=[tA1,tB1,tC1]
    x0,y0=0,0
    for Mk in M:
        if x0<Mk.shape[0]:x0=Mk.shape[0]
        if y0<Mk.shape[1]:y0=Mk.shape[1]

    x, y = np.mgrid[0:x0, 0:y0]
    #plt.figure(figsize=(w,h))
    ax.clear()
    cmapk=[cm.spring,cm.summer,cm.autumn,cm.winter,cm.cool,cm.Wistia]
    for k,Mk in enumerate(M):
        ax.plot_surface(x, y, Mk[x,y], cmap=cmapk[k%6],rstride=2, cstride=2)
        #ax.legend()
    plt.show()
taAnimate(0)

#ani = animation.FuncAnimation(fig, taAnimate, interval=1500)
#%%
from keras.layers import *
from keras.optimizers import *
from keras.callbacks import *
from keras.models import Model;
import time, glob
import librosa
maxlen_char=9
img2 = mpimg.imread('/home/ubu/2018/taKWS/imgs/BAC009S0916W0492.png')     
label='公司  承诺  贷款  本息  都  由  公司  负责  偿还  '
KWS=['','中国','市场','公司','记者','百分','日','已','无','能','网']

def LenMFCC_1file(file_path):
    wav, sr = librosa.load(file_path, mono=True,res_type='kaiser_fast')
    b = librosa.feature.mfcc(wav, sr)
    mfcc = np.transpose(b, [1, 0]);
    lenmfcc_t=len(mfcc)
    return lenmfcc_t,mfcc

Max_len_MFCC=0
AUDIOs=[]
for fn in fns:
    audiopath=join(fnPath,fn+fnExt)
    lenmfcc_t,Sxx=LenMFCC_1file(audiopath)
    if Max_len_MFCC<lenmfcc_t:Max_len_MFCC=lenmfcc_t
    AUDIOs.append(Sxx)
DAT=[]
for mfcc in AUDIOs:
    print()
    mfcc_vec=np.pad(mfcc,((0,Max_len_MFCC-len(mfcc)),(0,0)), mode='constant', constant_values=0)
    #print(len(mfcc_vec))
    DAT.append(mfcc_vec);
MFCCs=np.asarray(DAT)
#----------------#----------------#----------------#----------------
'''
fis=glob.glob('/home/ubu/2018/taKWS/imgs/*.png')
fis=sorted(fis)
Max_len_MFCC=0
imgARR=[]
for fi in fis:
    img=mpimg.imread(fi)
    gray = rgb2gray(img) 
    imgARR.append(gray.T)
    if Max_len_MFCC<len(gray[1]):Max_len_MFCC=len(gray[1])
print(len(imgARR))
print('imgArr_maxlen=',Max_len_MFCC)
'''
#----------------#----------------#----------------#----------------
fiNames=[]
for fi in fis:
    fiN=fi.split('/')[-1]
    fiN=fiN.split('.')[0]
    fiNames.append(fiN)
print('pp(fiNames)=')    
pp(fiNames)
#----------------#----------------#----------------#----------------
Labels=[]
maxlen_char=0
for fi in fiNames:
    for x in L:
        if fi in x:
            lbl=x[1]
            lbl=" ".join(lbl.split())
            lbl=lbl.split(' ')
            if maxlen_char<len(lbl):maxlen_char=len(lbl)
            Labels.append(lbl)
print('pp(Labels[-5:])=')
pp(Labels[-5:])
MaxSample=len(Labels)
print('MaxSample=',MaxSample)
print('maxlen_char=',maxlen_char)
#----------------#----------------#----------------#----------------
char_vec=np.zeros((Num_Samples,maxlen_char),dtype=np.float32);
char_length=[]
k=0
for La in Labels:
    char_length.append(len(La))
    for j,ele in enumerate(La):
        if ele in KWS:
            char_vec[k,j]= KWS.index(ele)
        else:
            char_vec[k,j]=0
    k+=1
char_length=np.asarray(char_length)
print('pp(char_vec)=')
pp(char_vec)
print('pp(char_length)=')
pp(char_length)
#----------------#----------------#----------------#----------------
'''
DAT=[]
for mfcc in imgARR:
    mfcc_vec=np.pad(mfcc,((0,Max_len_MFCC-len(mfcc)),(0,0)), mode='constant', constant_values=0)
    #print(len(mfcc_vec))
    DAT.append(mfcc_vec);
MFCCs2=np.asarray(DAT)
''' 
def ctc_lambda_function(args):
    logit, logit_length_input, y_true_input, y_true_length_input=args;
    return K.ctc_batch_cost(y_true_input,logit,logit_length_input,y_true_length_input);
    
input_tensor=Input(shape=(MFCCs[0].shape));
x=Conv1D(kernel_size=1,filters=192,padding="same")(input_tensor);
x=BatchNormalization(axis=-1)(x);
x=Activation("tanh")(x);

def res_block(x,size,rate,dim=192):
    x_tanh=Conv1D(kernel_size=size,filters=dim,dilation_rate=rate,padding="same")(x);
    x_tanh=BatchNormalization(axis=-1)(x_tanh);
    x_tanh=Activation("tanh")(x_tanh);

    #x_tanh=Dropout(0.2)(x_tanh)

    x_sigmoid=Conv1D(kernel_size=size,filters=dim,dilation_rate=rate,padding="same")(x);
    x_sigmoid=BatchNormalization(axis=-1)(x_sigmoid);
    x_sigmoid=Activation("sigmoid")(x_sigmoid);

    #x_sigmoid=Dropout(0.2)(x_sigmoid)

    out=merge([x_tanh,x_sigmoid],mode="mul");
    out=Conv1D(kernel_size=1,filters=dim,padding="same")(out);
    out=BatchNormalization(axis=-1)(out);
    out=Activation("tanh")(out);

    out=Dropout(0.2)(out)
    x=merge([x,out],mode="sum");
    return x,out;

skip=[]
for i in np.arange(0,3):#3
    for r in [1,2,4,8,16]:
        x,s=res_block(x,size=7,rate=r);
        skip.append(s);

def ctc_lambda_function(args):
    logit, logit_length_input, y_true_input, y_true_length_input=args;
    return K.ctc_batch_cost(y_true_input,logit,logit_length_input,y_true_length_input);

#with tf.device('/device:GPU:0'):
skip_tensor=merge([s for s in skip],mode="sum");
logit=Conv1D(kernel_size=1,filters=192,padding="same")(skip_tensor);
logit=BatchNormalization(axis=-1)(logit);
logit=Activation("tanh")(logit);
logit=Conv1D(kernel_size=1,filters=len(KWS)+1,padding="same",activation="softmax")(logit);

logit_length_input =Input(shape=(1,),name='logit_length_input');
y_true_input       =Input(shape=(maxlen_char,),name='y_true_input');
y_true_length_input=Input(shape=(1,),name='y_true_length_input');

loss_out=Lambda(ctc_lambda_function,output_shape=(1,),name="ctc")([
                logit,
                logit_length_input,
                y_true_input, 
                y_true_length_input])

model=Model(inputs=[input_tensor,logit_length_input,y_true_input,y_true_length_input],outputs=loss_out);
opt=adam(lr=0.2)#"adam"
model.compile(loss={'ctc': lambda y_true, y_pred: y_pred},optimizer=opt,metrics=['accuracy']);


mfcc_vec_out    = MFCCs
mfcc_vec_out_len= np.ones(MaxSample)*Max_len_MFCC
char_vec        = char_vec
char_length     = char_length
Y=np.ones(MaxSample)
lr_change  = ReduceLROnPlateau(monitor  ="loss",
                               mode     ="auto",
                               factor   =0.3,   # factor by which the learning rate will be reduced. new_lr = lr * factor
                               patience =2,     #number of epochs with no improvement after which learning rate will be reduced.
                               min_lr   =0.0)
hist = model.fit([mfcc_vec_out,  mfcc_vec_out_len, char_vec, char_length], 
                  Y,
                 epochs=200,
                 callbacks = [lr_change]
                )


#%%

def taSubM(A,B,startB=0):
    if startB==0:
        return
    mA=A
    mB=B
    mAh,lenA=mA.shape
    mBh,lenB=mB.shape
    tA=np.ones ([mAh,lenA+2*lenB+1],dtype='float')
    tB=np.zeros([mBh,lenA+2*lenB+1],dtype='float')
    lentB=tB.shape[1]
    startA=lenA
    tA1=np.concatenate([tA[:,0:startA],mA,tA[:,startA+lenA:]], axis=1)
    
    stopB=startB+lenB
    if stopB>=lentB:stopB=lentB-1
    tB1=np.concatenate([tB[:,0:startB],mB,tB[:,startB+lenB:]], axis=1)
    
    #print(startA,lenA,startA+lenA,len(tA[0]))
    #print(startB,lenB,startB+lenB,len(tB[0]))
    #print(mA.shape,mB.shape,tA.shape,tB.shape)
    #print(tA1.shape,tB1.shape)
    #pp(tA1)
    #pp(tB1)
    #pp(tA1-tB1)
    tC1=tA1-tB1
    return tA1,tB1,tC1
mA=np.random.randint(2,9, size=(13,19))
mB=np.random.randint(2,9, size=(13,16))

startB=mB.shape[1]+mA.shape[1]+2 # startB=lenA+lenA. +1 la vi se tru truoc khi thuc hien
#tA1,tB1,tC1=taSubM(mA,mB,startB=startB)
stbLuu=startB
#%%
#%matplotlib inline
%matplotlib notebook
from matplotlib import animation
startB-=1
print(startB)
tA1,tB1,tC1=taSubM(mA,mB,startB=startB)
#taDisp3D(tA1,5,5)
#taDisp3D(tB1,5,5)
#taDisp3D2([tA1,tB1],7,7)
#taDisp3D(tC1,5,5),tC1


 
    
fig = plt.figure(figsize=(12,8))
#ax  = fig.add_subplot(1,1,1)
ax = plt.gca(projection='3d')
    
def taAnimate(i ):
    global startB,tA1,tB1
    if startB>0:
        startB-=1
    else:
        startB=stbLuu
    print(startB)
    tA1,tB1,tC1=taSubM(mA,mB,startB=startB)
    #taDisp3D(tA1,5,5)
    #taDisp3D(tB1,5,5)
    #taDisp3D2([tA1,tB1],7,7)
    M=[tA1,tB1]
    x0,y0=0,0
    for Mk in M:
        if x0<Mk.shape[0]:x0=Mk.shape[0]
        if y0<Mk.shape[1]:y0=Mk.shape[1]

    x, y = np.mgrid[0:x0, 0:y0]
    #plt.figure(figsize=(w,h))
    ax.clear()
    cmapk=[cm.spring,cm.summer,cm.autumn,cm.winter,cm.cool,cm.Wistia]
    for k,Mk in enumerate(M):
        ax.plot_surface(x, y, Mk[x,y], cmap=cmapk[k%6],rstride=2, cstride=2)
    #plt.show()
taAnimate(0)

#ani = animation.FuncAnimation(fig, taAnimate, interval=500)
plt.show()
#%%
#%matplotlib inline
%matplotlib notebook
import math
fig = plt.figure()
ax2 = fig.add_subplot(1,1,1)
d=0
x=np.arange(0,360)
#pp(x)
yar=math.sin(x[d]*3.141592/180)
def animate(i):
    xar=x;#np.random.randint(2,9, size=(10))
    
    yar=math.sin(x[d]*3.141592/180) #;np.random.randint(2,9, size=(10))
    print(yar)
    #ax2.clear()
    ax2.plot(xar,yar)
    #plt.show()
    d+=1
ani = animation.FuncAnimation(fig, animate, interval=2000)
plt.show()
#%matplotlib inline

#%%

fig = plt.figure()
ax2 = fig.add_subplot(1,1,1)
def animate(i):
    xar=np.random.randint(2,9, size=(10))
    yar=np.random.randint(2,9, size=(10))
    ax2.clear()
    ax2.plot(xar,yar)
    #plt.show()
ani = animation.FuncAnimation(fig, animate, interval=1000)








